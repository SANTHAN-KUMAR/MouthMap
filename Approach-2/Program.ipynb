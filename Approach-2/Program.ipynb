{
 "cells": [
  {
   "cell_type": "code",
   "execution_count": 2,
   "metadata": {},
   "outputs": [],
   "source": [
    "import tensorflow as tf\n",
    "import numpy as np\n",
    "import cv2\n",
    "import os\n",
    "from typing import List, Tuple\n",
    "from tensorflow.keras.models import Model\n",
    "from tensorflow.keras.layers import Input, Conv3D, Dense, LSTM, Dropout, BatchNormalization\n",
    "from tensorflow.keras.layers import MaxPooling3D, Reshape, Bidirectional, Activation\n",
    "from tensorflow.keras.optimizers import RMSprop\n",
    "\n",
    "class MouthMapPreprocessor:\n",
    "    def __init__(self, vocab=\"abcdefghijklmnopqrstuvwxyz'?! \"):\n",
    "        self.vocab = list(vocab)\n",
    "        self.char_to_idx = {char: idx for idx, char in enumerate(self.vocab)}\n",
    "        self.idx_to_char = {idx: char for idx, char in enumerate(self.vocab)}\n",
    "        \n",
    "    def process_video(self, video_path: str, target_size: Tuple[int, int] = (120, 160)) -> np.ndarray:\n",
    "        frames = []\n",
    "        cap = cv2.VideoCapture(video_path)\n",
    "        \n",
    "        while cap.isOpened():\n",
    "            ret, frame = cap.read()\n",
    "            if not ret:\n",
    "                break\n",
    "            \n",
    "            gray = cv2.cvtColor(frame, cv2.COLOR_BGR2GRAY)\n",
    "        \n",
    "            mouth_region = gray[200:280, 160:320]\n",
    "        \n",
    "            resized = cv2.resize(mouth_region, target_size)\n",
    "            \n",
    "            normalized = resized / 255.0\n",
    "            frames.append(normalized)\n",
    "            \n",
    "        cap.release()\n",
    "        return np.array(frames)\n",
    "\n",
    "    def encode_text(self, text: str) -> np.ndarray:\n",
    "        \"\"\"Convert text to numerical sequence.\"\"\"\n",
    "        return np.array([self.char_to_idx[c] for c in text.lower() if c in self.char_to_idx])\n",
    "    \n",
    "    def decode_prediction(self, prediction: np.ndarray) -> str:\n",
    "        \"\"\"Convert numerical prediction back to text.\"\"\"\n",
    "        return ''.join([self.idx_to_char[idx] for idx in prediction if idx < len(self.vocab)])\n"
   ]
  },
  {
   "cell_type": "code",
   "execution_count": null,
   "metadata": {},
   "outputs": [],
   "source": []
  }
 ],
 "metadata": {
  "kernelspec": {
   "display_name": "Python 3",
   "language": "python",
   "name": "python3"
  },
  "language_info": {
   "codemirror_mode": {
    "name": "ipython",
    "version": 3
   },
   "file_extension": ".py",
   "mimetype": "text/x-python",
   "name": "python",
   "nbconvert_exporter": "python",
   "pygments_lexer": "ipython3",
   "version": "3.10.11"
  }
 },
 "nbformat": 4,
 "nbformat_minor": 2
}
